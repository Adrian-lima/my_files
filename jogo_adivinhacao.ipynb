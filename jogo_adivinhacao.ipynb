{
 "cells": [
  {
   "cell_type": "code",
   "execution_count": null,
   "id": "b38a9774",
   "metadata": {},
   "outputs": [],
   "source": [
    "import random\n",
    "total_de_tentativas = 0\n",
    "rodada = 1\n",
    "\n",
    "print(\"Qual o nível de dificuldade?\")\n",
    "print(\"Nível 1 {Facil}, Nível 2 {Medio}, Nível 3 {dificil}\")\n",
    "nivel = int(input(\"Defina seu nível:\"))\n",
    "if(nivel == 1):\n",
    "    total_de_tentativas = 15\n",
    "if(nivel==2):\n",
    "    total_tentativas = 10\n",
    "if(nivel==3):\n",
    "    total_de_tentativas =5\n",
    "\n",
    "\n",
    "for rodada in range(1,total_de_tentativas + 1):\n",
    "    print(\"Tentativa {} de {}\".format(rodada,total_de_tentativas))\n",
    "    numero_secreto = random.randrange(1,101)\n",
    "    chute = input('Qual seu chute?')\n",
    "    numero = int(chute)\n",
    "    print('Você chutou:',numero)\n",
    "    \n",
    "    if(numero<1 or numero>100):\n",
    "        print(\"Somente números entre 1 a 100\")\n",
    "        continue\n",
    "\n",
    "    acertou = numero_secreto==numero\n",
    "    maior = numero > numero_secreto\n",
    "    menor = numero < numero_secreto\n",
    "\n",
    "    if (acertou):\n",
    "        print('Você acertou')\n",
    "        break\n",
    "    else: \n",
    "        if (maior):\n",
    "            print('Você chutou muito alto!')\n",
    "        elif (menor):\n",
    "            print('Você chutou muito baixo!')\n",
    "\n",
    "        print('Você errou')\n"
   ]
  }
 ],
 "metadata": {
  "kernelspec": {
   "display_name": "Python 3",
   "language": "python",
   "name": "python3"
  },
  "language_info": {
   "codemirror_mode": {
    "name": "ipython",
    "version": 3
   },
   "file_extension": ".py",
   "mimetype": "text/x-python",
   "name": "python",
   "nbconvert_exporter": "python",
   "pygments_lexer": "ipython3",
   "version": "3.8.8"
  }
 },
 "nbformat": 4,
 "nbformat_minor": 5
}
